{
 "cells": [
  {
   "cell_type": "code",
   "execution_count": 1,
   "metadata": {},
   "outputs": [
    {
     "name": "stdout",
     "output_type": "stream",
     "text": [
      "\n",
      "matrix shape = (2339, 1654)\n",
      "\n",
      "matrix rank  = 499\n",
      "\n",
      "matrix shape m1 = (2339, 499)\n",
      "\n",
      "matrix rank  m1 = 499\n",
      "\n",
      "matrix shape m2 = (499, 1654)\n",
      "\n",
      "matrix rank  m2 = 499\n"
     ]
    }
   ],
   "source": [
    "from PIL import Image\n",
    "import numpy as np\n",
    "from scipy import linalg as la\n",
    "from numpy.linalg import matrix_rank as rank\n",
    "\n",
    "\n",
    "def fullrank(X):\n",
    "    '''\n",
    "    https://github.com/kingofspace0wzz/Matrix-Analysis\n",
    "    return full-rank decomposition of X = FG^T\n",
    "    '''\n",
    "    rankX = rank(X)\n",
    "\n",
    "    U, sing_values, Vh = la.svd(X)\n",
    "\n",
    "    #construct a r-rank sigma-square-root matrix\n",
    "\n",
    "    sigma = np.eye(rankX)\n",
    "    for i in range(sigma.shape[0]):\n",
    "        sigma[i, i] = sing_values[i]\n",
    "\n",
    "    F = U.dot(np.vstack((sigma, np.zeros((X.shape[0] - rankX, rankX)))))\n",
    "    Gh = np.hstack((sigma, np.zeros((rankX, X.shape[1] - rankX)))).dot(Vh)\n",
    "\n",
    "    return F, Gh \n",
    "\n",
    "\n",
    "im = Image.open(\"samples/Alexander_Pushkin_Eugene_Onegin1.tiff\") #source image\n",
    "m = np.asarray(im).astype(float) #convert numbers to float\n",
    "\n",
    "\n",
    "print(\"\\nmatrix shape =\", m.shape) #shape of matrix\n",
    "print(\"\\nmatrix rank  =\", rank(m)) #rank\n",
    "\n",
    "with open('results/matrixt.txt', 'wb') as bm: #save matrix to txt file\n",
    "    np.savetxt(bm, m)\n",
    "bm.close()\n",
    "        \n",
    "f1, f2 = fullrank(m) #full rank decomposition\n",
    "\n",
    "m1 = np.matrix(f1) #convert to numpy matrix\n",
    "m2 = np.matrix(f2)\n",
    "\n",
    "print(\"\\nmatrix shape m1 =\", m1.shape) #shape of the decomposition matrix 1\n",
    "print(\"\\nmatrix rank  m1 =\", rank(m1)) #rank of the decomposition matrix 1\n",
    "\n",
    "print(\"\\nmatrix shape m2 =\", m2.shape) #shape of the decomposition matrix 2\n",
    "print(\"\\nmatrix rank  m2 =\", rank(m2)) #shape of the decomposition matrix 2\n",
    "\n",
    "with open('results/fr_file1.txt', 'wb') as file1: #save matrix 1 to txt file\n",
    "    np.savetxt(file1, m1)\n",
    "file1.close()\n",
    "\n",
    "with open('results/fr_file2.txt', 'wb') as file2: #save matrix 2 to txt file\n",
    "    np.savetxt(file2, m2)\n",
    "file2.close()"
   ]
  }
 ],
 "metadata": {
  "kernelspec": {
   "display_name": "mathematics",
   "language": "python",
   "name": "python3"
  },
  "language_info": {
   "codemirror_mode": {
    "name": "ipython",
    "version": 3
   },
   "file_extension": ".py",
   "mimetype": "text/x-python",
   "name": "python",
   "nbconvert_exporter": "python",
   "pygments_lexer": "ipython3",
   "version": "3.10.6"
  },
  "vscode": {
   "interpreter": {
    "hash": "b3e990ad3a37369ba71040ba26268a598425e9aeeb33ae82876e412ea8d47824"
   }
  }
 },
 "nbformat": 4,
 "nbformat_minor": 2
}
